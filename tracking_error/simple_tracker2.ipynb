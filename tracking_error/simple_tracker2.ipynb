{
 "cells": [
  {
   "cell_type": "code",
   "execution_count": 76,
   "metadata": {},
   "outputs": [],
   "source": [
    "# Import key classes, libraries and modules\n",
    "import numpy as np\n",
    "import pandas as pd\n",
    "import yfinance as yf\n",
    "import warnings\n",
    "import scipy.optimize as sco\n",
    "warnings.filterwarnings('ignore')"
   ]
  },
  {
   "cell_type": "code",
   "execution_count": 77,
   "metadata": {},
   "outputs": [],
   "source": [
    "# Define universe\n",
    "index = ['MME=F']\n",
    "core_list = [\"PLUG\",\"FCEL\", \"NIO\", \"BLDP\", \"AAA1\"]\n",
    "non_core_list = [\"QS\", \"APPH\", \"PRCH\", \"DMTK\",\"UTZ\"]\n",
    "\n",
    "universe = index+core_list+non_core_list"
   ]
  },
  {
   "cell_type": "code",
   "execution_count": 78,
   "metadata": {},
   "outputs": [],
   "source": [
    "## Define period\n",
    "start_date = '2020-01-01'\n",
    "end_data = '2021-01-01'"
   ]
  },
  {
   "cell_type": "code",
   "execution_count": 79,
   "metadata": {},
   "outputs": [
    {
     "name": "stdout",
     "output_type": "stream",
     "text": [
      "[*********************100%***********************]  11 of 11 completed\n",
      "\n",
      "1 Failed download:\n",
      "- AAA1: No data found, symbol may be delisted\n"
     ]
    }
   ],
   "source": [
    "## Get data\n",
    "df = yf.download(universe, start_date, end_data)[\"Close\"] #.dropna(axis=1, how='all').fillna(0)\n",
    "limitPer = len(df) * .95\n",
    "yourdf = df.dropna(thresh=limitPer, axis=1) #.fillna(0)\n",
    "df_return = yourdf.pct_change()[1:]"
   ]
  },
  {
   "cell_type": "code",
   "execution_count": 80,
   "metadata": {},
   "outputs": [],
   "source": [
    "# # Get index return\n",
    "# df_return_index = df_return[index]\n",
    "# # print(df_return_index)\n",
    "# core_list = list(set(core_list).intersection(set(df_return.columns.to_list())))\n",
    "# non_core_list = list(set(non_core_list).intersection(set(df_return.columns.to_list())))\n",
    "# df_return_core_list = df_return[core_list]\n",
    "# df_return_non_core_list = df_return[non_core_list]\n",
    "\n",
    "\n",
    "# df_data = pd.concat((df_return_index, df_return_core_list, df_return_non_core_list), axis=1)#.fillna(0)"
   ]
  },
  {
   "cell_type": "code",
   "execution_count": 82,
   "metadata": {},
   "outputs": [
    {
     "data": {
      "text/html": [
       "<div>\n",
       "<style scoped>\n",
       "    .dataframe tbody tr th:only-of-type {\n",
       "        vertical-align: middle;\n",
       "    }\n",
       "\n",
       "    .dataframe tbody tr th {\n",
       "        vertical-align: top;\n",
       "    }\n",
       "\n",
       "    .dataframe thead th {\n",
       "        text-align: right;\n",
       "    }\n",
       "</style>\n",
       "<table border=\"1\" class=\"dataframe\">\n",
       "  <thead>\n",
       "    <tr style=\"text-align: right;\">\n",
       "      <th></th>\n",
       "      <th>BLDP</th>\n",
       "      <th>DMTK</th>\n",
       "      <th>FCEL</th>\n",
       "      <th>MME=F</th>\n",
       "      <th>NIO</th>\n",
       "      <th>PLUG</th>\n",
       "      <th>PRCH</th>\n",
       "      <th>UTZ</th>\n",
       "    </tr>\n",
       "    <tr>\n",
       "      <th>Date</th>\n",
       "      <th></th>\n",
       "      <th></th>\n",
       "      <th></th>\n",
       "      <th></th>\n",
       "      <th></th>\n",
       "      <th></th>\n",
       "      <th></th>\n",
       "      <th></th>\n",
       "    </tr>\n",
       "  </thead>\n",
       "  <tbody>\n",
       "    <tr>\n",
       "      <th>2020-01-03 00:00:00</th>\n",
       "      <td>-0.023750</td>\n",
       "      <td>-0.082683</td>\n",
       "      <td>0.024876</td>\n",
       "      <td>-0.018459</td>\n",
       "      <td>0.029570</td>\n",
       "      <td>-0.003086</td>\n",
       "      <td>NaN</td>\n",
       "      <td>0.000000</td>\n",
       "    </tr>\n",
       "    <tr>\n",
       "      <th>2020-01-06 00:00:00</th>\n",
       "      <td>0.062740</td>\n",
       "      <td>-0.058674</td>\n",
       "      <td>0.077670</td>\n",
       "      <td>-0.002674</td>\n",
       "      <td>-0.039164</td>\n",
       "      <td>0.182663</td>\n",
       "      <td>NaN</td>\n",
       "      <td>0.000000</td>\n",
       "    </tr>\n",
       "    <tr>\n",
       "      <th>2020-01-07 00:00:00</th>\n",
       "      <td>-0.018072</td>\n",
       "      <td>-0.037037</td>\n",
       "      <td>-0.063063</td>\n",
       "      <td>-0.000715</td>\n",
       "      <td>-0.119565</td>\n",
       "      <td>-0.002618</td>\n",
       "      <td>NaN</td>\n",
       "      <td>0.000000</td>\n",
       "    </tr>\n",
       "    <tr>\n",
       "      <th>2020-01-08 00:00:00</th>\n",
       "      <td>0.006135</td>\n",
       "      <td>-0.108818</td>\n",
       "      <td>0.100962</td>\n",
       "      <td>0.004919</td>\n",
       "      <td>0.046296</td>\n",
       "      <td>0.070866</td>\n",
       "      <td>NaN</td>\n",
       "      <td>0.001946</td>\n",
       "    </tr>\n",
       "    <tr>\n",
       "      <th>2020-01-09 00:00:00</th>\n",
       "      <td>0.047561</td>\n",
       "      <td>-0.027368</td>\n",
       "      <td>-0.043668</td>\n",
       "      <td>0.007030</td>\n",
       "      <td>0.020649</td>\n",
       "      <td>-0.007353</td>\n",
       "      <td>NaN</td>\n",
       "      <td>0.000000</td>\n",
       "    </tr>\n",
       "  </tbody>\n",
       "</table>\n",
       "</div>"
      ],
      "text/plain": [
       "                         BLDP      DMTK      FCEL     MME=F       NIO  \\\n",
       "Date                                                                    \n",
       "2020-01-03 00:00:00 -0.023750 -0.082683  0.024876 -0.018459  0.029570   \n",
       "2020-01-06 00:00:00  0.062740 -0.058674  0.077670 -0.002674 -0.039164   \n",
       "2020-01-07 00:00:00 -0.018072 -0.037037 -0.063063 -0.000715 -0.119565   \n",
       "2020-01-08 00:00:00  0.006135 -0.108818  0.100962  0.004919  0.046296   \n",
       "2020-01-09 00:00:00  0.047561 -0.027368 -0.043668  0.007030  0.020649   \n",
       "\n",
       "                         PLUG  PRCH       UTZ  \n",
       "Date                                           \n",
       "2020-01-03 00:00:00 -0.003086   NaN  0.000000  \n",
       "2020-01-06 00:00:00  0.182663   NaN  0.000000  \n",
       "2020-01-07 00:00:00 -0.002618   NaN  0.000000  \n",
       "2020-01-08 00:00:00  0.070866   NaN  0.001946  \n",
       "2020-01-09 00:00:00 -0.007353   NaN  0.000000  "
      ]
     },
     "execution_count": 82,
     "metadata": {},
     "output_type": "execute_result"
    }
   ],
   "source": [
    "df_return.head()"
   ]
  },
  {
   "cell_type": "markdown",
   "metadata": {},
   "source": [
    "### Transforming the Data"
   ]
  },
  {
   "cell_type": "code",
   "execution_count": null,
   "metadata": {},
   "outputs": [],
   "source": []
  }
 ],
 "metadata": {
  "interpreter": {
   "hash": "b86724382ef932ebfad2dd4acb12e3a76a9c322e36cbf79fe3c3964cb954ddbe"
  },
  "kernelspec": {
   "display_name": "Python 3.7.9 ('venv': venv)",
   "language": "python",
   "name": "python3"
  },
  "language_info": {
   "codemirror_mode": {
    "name": "ipython",
    "version": 3
   },
   "file_extension": ".py",
   "mimetype": "text/x-python",
   "name": "python",
   "nbconvert_exporter": "python",
   "pygments_lexer": "ipython3",
   "version": "3.7.9"
  },
  "orig_nbformat": 4
 },
 "nbformat": 4,
 "nbformat_minor": 2
}
