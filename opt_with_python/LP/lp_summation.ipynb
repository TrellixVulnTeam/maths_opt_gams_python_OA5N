{
 "cells": [
  {
   "cell_type": "markdown",
   "metadata": {},
   "source": [
    "## LP - Summation"
   ]
  },
  {
   "cell_type": "code",
   "execution_count": 7,
   "metadata": {},
   "outputs": [],
   "source": [
    "import pyomo.environ as pyo\n",
    "from pyomo.environ import *\n",
    "from pyomo.opt import SolverFactory\n",
    "import pandas as pd"
   ]
  },
  {
   "cell_type": "code",
   "execution_count": 29,
   "metadata": {},
   "outputs": [],
   "source": [
    "# inputs\n",
    "dataGen = pd.read_excel(\"inputs.xlsx\", sheet_name=\"gen\")\n",
    "dataLoad = pd.read_excel(\"inputs.xlsx\", sheet_name=\"load\")\n",
    "Ng = len(dataGen)\n",
    "Nd = len(dataLoad)"
   ]
  },
  {
   "cell_type": "code",
   "execution_count": 51,
   "metadata": {},
   "outputs": [
    {
     "name": "stdout",
     "output_type": "stream",
     "text": [
      "   id  limit  cost    Pg\n",
      "0   0     20  0.10  20.0\n",
      "1   1     10  0.05  10.0\n",
      "2   2     40  0.30  35.0\n",
      "3   3     50  0.40  30.0\n",
      "4   4      5  0.01   5.0\n"
     ]
    }
   ],
   "source": [
    "#model\n",
    "model = pyo.ConcreteModel()\n",
    "\n",
    "model.Pg = pyo.Var(range(Ng), bounds=(0,None))\n",
    "Pg = model.Pg\n",
    "\n",
    "# model.Pd = pyo.Var(range(Nd), bounds=(0,None))\n",
    "# Pd = model.Pd\n",
    "\n",
    "#constraints\n",
    "pg_sum =  sum([Pg[g] for g in dataGen.id])\n",
    "pd_sum =  sum([Pd[d] for d in dataLoad.id])\n",
    "model.balance = pyo.Constraint(expr = pg_sum == sum(dataLoad.value))\n",
    "\n",
    "model.cond = pyo.Constraint(expr = Pg[0]+Pg[3] >= dataLoad.value[0])\n",
    "\n",
    "model.limits = pyo.ConstraintList()\n",
    "for g in dataGen.id:\n",
    "    model.limits.add(expr= Pg[g] <= dataGen.limit[g])\n",
    "\n",
    "#objFun\n",
    "cost_sum = sum([Pg[g]*dataGen.cost[g] for g in dataGen.id])\n",
    "model.obj = pyo.Objective(expr = cost_sum)\n",
    "\n",
    "opt = SolverFactory('glpk')\n",
    "results = opt.solve(model)\n",
    "\n",
    "dataGen['Pg'] = [pyo.value(Pg[g]) for g in dataGen.id]\n",
    "print(dataGen)"
   ]
  },
  {
   "cell_type": "code",
   "execution_count": 49,
   "metadata": {},
   "outputs": [
    {
     "name": "stdout",
     "output_type": "stream",
     "text": [
      "0.1*Pg[0] + 0.05*Pg[1] + 0.3*Pg[2] + 0.4*Pg[3] + 0.01*Pg[4]\n"
     ]
    }
   ],
   "source": [
    "print(sum([Pg[g]*dataGen.cost[g] for g in dataGen.id]))"
   ]
  },
  {
   "cell_type": "code",
   "execution_count": 47,
   "metadata": {},
   "outputs": [
    {
     "name": "stdout",
     "output_type": "stream",
     "text": [
      "2 Set Declarations\n",
      "    Pg_index : Size=1, Index=None, Ordered=Insertion\n",
      "        Key  : Dimen : Domain : Size : Members\n",
      "        None :     1 :    Any :    5 : {0, 1, 2, 3, 4}\n",
      "    limits_index : Size=1, Index=None, Ordered=Insertion\n",
      "        Key  : Dimen : Domain : Size : Members\n",
      "        None :     1 :    Any :    5 : {1, 2, 3, 4, 5}\n",
      "\n",
      "1 Var Declarations\n",
      "    Pg : Size=5, Index=Pg_index\n",
      "        Key : Lower : Value : Upper : Fixed : Stale : Domain\n",
      "          0 :     0 :  None :  None : False :  True :  Reals\n",
      "          1 :     0 :  None :  None : False :  True :  Reals\n",
      "          2 :     0 :  None :  None : False :  True :  Reals\n",
      "          3 :     0 :  None :  None : False :  True :  Reals\n",
      "          4 :     0 :  None :  None : False :  True :  Reals\n",
      "\n",
      "3 Constraint Declarations\n",
      "    balance : Size=1, Index=None, Active=True\n",
      "        Key  : Lower : Body                                  : Upper : Active\n",
      "        None : 100.0 : Pg[0] + Pg[1] + Pg[2] + Pg[3] + Pg[4] : 100.0 :   True\n",
      "    cond : Size=1, Index=None, Active=True\n",
      "        Key  : Lower : Body          : Upper : Active\n",
      "        None :  50.0 : Pg[0] + Pg[3] :  +Inf :   True\n",
      "    limits : Size=5, Index=limits_index, Active=True\n",
      "        Key : Lower : Body  : Upper : Active\n",
      "          1 :  -Inf : Pg[0] :  20.0 :   True\n",
      "          2 :  -Inf : Pg[1] :  10.0 :   True\n",
      "          3 :  -Inf : Pg[2] :  40.0 :   True\n",
      "          4 :  -Inf : Pg[3] :  50.0 :   True\n",
      "          5 :  -Inf : Pg[4] :   5.0 :   True\n",
      "\n",
      "6 Declarations: Pg_index Pg balance cond limits_index limits\n"
     ]
    }
   ],
   "source": [
    "model.pprint()"
   ]
  },
  {
   "cell_type": "code",
   "execution_count": null,
   "metadata": {},
   "outputs": [],
   "source": []
  }
 ],
 "metadata": {
  "interpreter": {
   "hash": "b86724382ef932ebfad2dd4acb12e3a76a9c322e36cbf79fe3c3964cb954ddbe"
  },
  "kernelspec": {
   "display_name": "Python 3.7.9 ('venv': venv)",
   "language": "python",
   "name": "python3"
  },
  "language_info": {
   "codemirror_mode": {
    "name": "ipython",
    "version": 3
   },
   "file_extension": ".py",
   "mimetype": "text/x-python",
   "name": "python",
   "nbconvert_exporter": "python",
   "pygments_lexer": "ipython3",
   "version": "3.7.9"
  },
  "orig_nbformat": 4
 },
 "nbformat": 4,
 "nbformat_minor": 2
}
