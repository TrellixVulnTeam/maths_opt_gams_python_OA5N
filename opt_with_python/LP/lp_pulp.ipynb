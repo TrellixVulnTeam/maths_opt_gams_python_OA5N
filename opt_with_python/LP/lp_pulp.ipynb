{
 "cells": [
  {
   "cell_type": "markdown",
   "metadata": {},
   "source": [
    "## Pulp"
   ]
  },
  {
   "cell_type": "code",
   "execution_count": 1,
   "metadata": {},
   "outputs": [],
   "source": [
    "import pulp as pl "
   ]
  },
  {
   "cell_type": "code",
   "execution_count": 3,
   "metadata": {},
   "outputs": [
    {
     "name": "stdout",
     "output_type": "stream",
     "text": [
      "Welcome to the CBC MILP Solver \n",
      "Version: 2.10.3 \n",
      "Build Date: Dec 15 2019 \n",
      "\n",
      "command line - /Users/esuabomdijemeni/Desktop/github/maths_opt_gams_python/venv/lib/python3.7/site-packages/pulp/apis/../solverdir/cbc/osx/64/cbc /var/folders/v2/w5llzsqj55lfw9531v_t8b8r0000gn/T/4775cdcb87154adcb5981790f46fee78-pulp.mps max timeMode elapsed branch printingOptions all solution /var/folders/v2/w5llzsqj55lfw9531v_t8b8r0000gn/T/4775cdcb87154adcb5981790f46fee78-pulp.sol (default strategy 1)\n",
      "At line 2 NAME          MODEL\n",
      "At line 3 ROWS\n",
      "At line 8 COLUMNS\n",
      "At line 17 RHS\n",
      "At line 21 BOUNDS\n",
      "At line 24 ENDATA\n",
      "Problem MODEL has 3 rows, 2 columns and 6 elements\n",
      "Coin0008I MODEL read with 0 errors\n",
      "Option for timeMode changed from cpu to elapsed\n",
      "Presolve 3 (0) rows, 2 (0) columns and 6 (0) elements\n",
      "0  Obj -0 Dual inf 1.9999998 (2)\n",
      "2  Obj 10\n",
      "Optimal - objective value 10\n",
      "Optimal objective 10 - 2 iterations time 0.002\n",
      "Option for printingOptions changed from normal to all\n",
      "Total time (CPU seconds):       0.00   (Wallclock seconds):       0.02\n",
      "\n",
      "x =  4.0\n",
      "y =  6.0\n"
     ]
    }
   ],
   "source": [
    "model = pl.LpProblem('Ex', pl.LpMaximize)\n",
    "\n",
    "x = pl.LpVariable('x',0,10)\n",
    "y = pl.LpVariable('y',0,10)\n",
    "\n",
    "model += -x+2*y<=8\n",
    "model += 2*x+y<=14\n",
    "model += 2*x-y<=10\n",
    "\n",
    "model += x+y\n",
    "\n",
    "status = model.solve()\n",
    "\n",
    "x_value = pl.value(x)\n",
    "y_value = pl.value(y)\n",
    "\n",
    "print('x = ', x_value)\n",
    "print('y = ', y_value)"
   ]
  },
  {
   "cell_type": "code",
   "execution_count": null,
   "metadata": {},
   "outputs": [],
   "source": []
  }
 ],
 "metadata": {
  "interpreter": {
   "hash": "767d51c1340bd893661ea55ea3124f6de3c7a262a8b4abca0554b478b1e2ff90"
  },
  "kernelspec": {
   "display_name": "Python 2.7.16 64-bit",
   "language": "python",
   "name": "python3"
  },
  "language_info": {
   "codemirror_mode": {
    "name": "ipython",
    "version": 3
   },
   "file_extension": ".py",
   "mimetype": "text/x-python",
   "name": "python",
   "nbconvert_exporter": "python",
   "pygments_lexer": "ipython3",
   "version": "3.7.9"
  },
  "orig_nbformat": 4
 },
 "nbformat": 4,
 "nbformat_minor": 2
}
