{
 "cells": [
  {
   "cell_type": "code",
   "execution_count": 13,
   "metadata": {},
   "outputs": [],
   "source": [
    "import pyomo.environ as pyo\n",
    "from pyomo.opt import SolverFactory\n",
    "from pyomo.environ import *\n"
   ]
  },
  {
   "cell_type": "code",
   "execution_count": 16,
   "metadata": {},
   "outputs": [
    {
     "name": "stdout",
     "output_type": "stream",
     "text": [
      "3.6 1.4 320.0\n"
     ]
    }
   ],
   "source": [
    "# Model definition - must be done at the beginning\n",
    "model = pyo.ConcreteModel()\n",
    "\n",
    "# Variable declaration\n",
    "model.x1 = pyo.Var() # Number of comedy ads purchased\n",
    "model.x2 = pyo.Var() # Number of football ads purchased\n",
    "x1 = model.x1\n",
    "x2 = model.x2\n",
    "\n",
    "# Objective function definition\n",
    "model.obj = pyo.Objective(expr = 50*x1 + 100*x2, sense = pyo.minimize)\n",
    "\n",
    "# Constrain definition\n",
    "def rule1(model):\n",
    "    return 7*x1 +2*x2 >= 28\n",
    "model.eq1 = pyo.Constraint(rule = rule1, doc = 'Constraint 1')\n",
    "\n",
    "def rule2(model):\n",
    "    return 2*x1 + 12*x2 >= 24\n",
    "model.eq2 = pyo.Constraint(rule = rule2, doc = 'Constraint 2')\n",
    "\n",
    "# Solver options\n",
    "# Add solver\n",
    "results = SolverFactory('glpk')\n",
    "results.solve(model)\n",
    "\n",
    "# model.pprint()\n",
    "\n",
    "x1_value = pyo.value(x1)\n",
    "x2_value = pyo.value(x2)\n",
    "\n",
    "print(x1_value, x2_value, model.obj())"
   ]
  },
  {
   "cell_type": "code",
   "execution_count": null,
   "metadata": {},
   "outputs": [],
   "source": []
  }
 ],
 "metadata": {
  "interpreter": {
   "hash": "7e1998ff7f8aa20ada591c520b972326324e5ea05489af9e422744c7c09f6dad"
  },
  "kernelspec": {
   "display_name": "Python 3.10.0 64-bit",
   "language": "python",
   "name": "python3"
  },
  "language_info": {
   "codemirror_mode": {
    "name": "ipython",
    "version": 3
   },
   "file_extension": ".py",
   "mimetype": "text/x-python",
   "name": "python",
   "nbconvert_exporter": "python",
   "pygments_lexer": "ipython3",
   "version": "3.7.9"
  },
  "orig_nbformat": 4
 },
 "nbformat": 4,
 "nbformat_minor": 2
}
