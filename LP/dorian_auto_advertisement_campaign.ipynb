{
 "cells": [
  {
   "cell_type": "code",
   "execution_count": 1,
   "metadata": {},
   "outputs": [],
   "source": [
    "import pyomo.environ as pyomo"
   ]
  },
  {
   "cell_type": "code",
   "execution_count": 35,
   "metadata": {},
   "outputs": [
    {
     "name": "stdout",
     "output_type": "stream",
     "text": [
      "7*x[comedy] + 2*x[football]\n",
      "2*x[comedy] + 12*x[football]\n",
      "\n",
      " RESULTS \n",
      "\n",
      "Cost of advertisment campaign -  320.0\n",
      "Number of comedy ads purchase =  3.6\n",
      "Number of football ads purchased =  1.4\n"
     ]
    }
   ],
   "source": [
    "# Model Definition\n",
    "model = pyomo.ConcreteModel()\n",
    "\n",
    "# Set declaration\n",
    "model.c = pyomo.Set(initialize = [\"HIW\",\"HIM\"])\n",
    "model.a = pyomo.Set(initialize = ['comedy', 'football'])\n",
    "\n",
    "# Variable declaration\n",
    "model.x = pyomo.Var(model.a)\n",
    "\n",
    "# Parameter declaration\n",
    "model.theta = pyomo.Param(model.a, initialize = {'comedy':50, 'football':100})\n",
    "\n",
    "model.mu = pyomo.Param(model.a, model.c, \n",
    "                        initialize = {('comedy','HIW'):7, ('comedy','HIM'):2, \n",
    "                                      ('football','HIW'):2, ('football','HIM'):12})\n",
    "\n",
    "model.alpha = pyomo.Param(model.c, initialize={'HIW':28, 'HIM':24})\n",
    "\n",
    "# Objective function definition\n",
    "model.obj = pyomo.Objective(expr = sum(model.theta[a]*model.x[a] for a in model.a), sense=pyomo.minimize)\n",
    "\n",
    "# Constraint definition\n",
    "def rule1(model, c):\n",
    "    print(sum(model.mu[a,c]*model.x[a] for a in model.a))\n",
    "    return sum(model.mu[a,c]*model.x[a] for a in model.a) >= model.alpha[c]\n",
    "model.eq1 = pyomo.Constraint(model.c, rule = rule1, doc = \"Viewership requirement\")\n",
    "\n",
    "# Solver results\n",
    "results = pyomo.SolverFactory('glpk').solve(model)\n",
    "\n",
    "# Printing results\n",
    "print(\"\\n RESULTS \\n\")\n",
    "print(\"Cost of advertisment campaign - \", model.obj())\n",
    "print(\"Number of comedy ads purchase = \", model.x['comedy']())\n",
    "print(\"Number of football ads purchased = \", model.x['football']())"
   ]
  },
  {
   "cell_type": "code",
   "execution_count": 36,
   "metadata": {},
   "outputs": [
    {
     "name": "stdout",
     "output_type": "stream",
     "text": [
      "c\n"
     ]
    }
   ],
   "source": [
    "print(model.c)"
   ]
  },
  {
   "cell_type": "code",
   "execution_count": 33,
   "metadata": {},
   "outputs": [
    {
     "name": "stdout",
     "output_type": "stream",
     "text": [
      "50*x[comedy] + 100*x[football]\n"
     ]
    }
   ],
   "source": [
    "print(sum(model.theta[a]*model.x[a] for a in model.a))"
   ]
  },
  {
   "cell_type": "code",
   "execution_count": 27,
   "metadata": {},
   "outputs": [
    {
     "name": "stdout",
     "output_type": "stream",
     "text": [
      "3 Set Declarations\n",
      "    a : Size=1, Index=None, Ordered=Insertion\n",
      "        Key  : Dimen : Domain : Size : Members\n",
      "        None :     1 :    Any :    2 : {'comedy', 'football'}\n",
      "    c : Size=1, Index=None, Ordered=Insertion\n",
      "        Key  : Dimen : Domain : Size : Members\n",
      "        None :     1 :    Any :    2 : {'HIW', 'HIM'}\n",
      "    mu_index : Size=1, Index=None, Ordered=True\n",
      "        Key  : Dimen : Domain : Size : Members\n",
      "        None :     2 :    a*c :    4 : {('comedy', 'HIW'), ('comedy', 'HIM'), ('football', 'HIW'), ('football', 'HIM')}\n",
      "\n",
      "3 Param Declarations\n",
      "    alpha : Size=2, Index=c, Domain=Any, Default=None, Mutable=False\n",
      "        Key : Value\n",
      "        HIM :    24\n",
      "        HIW :    28\n",
      "    mu : Size=4, Index=mu_index, Domain=Any, Default=None, Mutable=False\n",
      "        Key                 : Value\n",
      "          ('comedy', 'HIM') :     2\n",
      "          ('comedy', 'HIW') :     7\n",
      "        ('football', 'HIM') :    12\n",
      "        ('football', 'HIW') :     2\n",
      "    theta : Size=2, Index=a, Domain=Any, Default=None, Mutable=False\n",
      "        Key      : Value\n",
      "          comedy :    50\n",
      "        football :   100\n",
      "\n",
      "1 Var Declarations\n",
      "    x : Size=2, Index=a\n",
      "        Key      : Lower : Value : Upper : Fixed : Stale : Domain\n",
      "          comedy :  None :  None :  None : False :  True :  Reals\n",
      "        football :  None :  None :  None : False :  True :  Reals\n",
      "\n",
      "7 Declarations: c a x theta mu_index mu alpha\n"
     ]
    }
   ],
   "source": [
    "model.pprint()"
   ]
  },
  {
   "cell_type": "code",
   "execution_count": null,
   "metadata": {},
   "outputs": [],
   "source": []
  }
 ],
 "metadata": {
  "interpreter": {
   "hash": "b86724382ef932ebfad2dd4acb12e3a76a9c322e36cbf79fe3c3964cb954ddbe"
  },
  "kernelspec": {
   "display_name": "Python 3.7.9 ('venv': venv)",
   "language": "python",
   "name": "python3"
  },
  "language_info": {
   "codemirror_mode": {
    "name": "ipython",
    "version": 3
   },
   "file_extension": ".py",
   "mimetype": "text/x-python",
   "name": "python",
   "nbconvert_exporter": "python",
   "pygments_lexer": "ipython3",
   "version": "3.7.9"
  },
  "orig_nbformat": 4
 },
 "nbformat": 4,
 "nbformat_minor": 2
}
